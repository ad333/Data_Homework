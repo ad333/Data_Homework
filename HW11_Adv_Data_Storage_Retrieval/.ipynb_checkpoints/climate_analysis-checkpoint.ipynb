{
 "cells": [
  {
   "cell_type": "code",
   "execution_count": 30,
   "metadata": {
    "collapsed": true
   },
   "outputs": [],
   "source": [
    "import pandas as pd\n",
    "import numpy as np\n",
    "import matplotlib.pyplot as plt\n",
    "import datetime as dt"
   ]
  },
  {
   "cell_type": "code",
   "execution_count": 31,
   "metadata": {
    "collapsed": true
   },
   "outputs": [],
   "source": [
    "import sqlalchemy\n",
    "from sqlalchemy import create_engine, inspect, func\n",
    "from sqlalchemy.ext.automap import automap_base\n",
    "from sqlalchemy.orm import Session\n",
    "\n",
    "# from database_engineering.ipynb import Measurements, Stations, Base"
   ]
  },
  {
   "cell_type": "code",
   "execution_count": 32,
   "metadata": {
    "collapsed": true
   },
   "outputs": [],
   "source": [
    "# Create an engine to a SQLite database file called `hawaii.sqlite`\n",
    "engine = create_engine(\"sqlite:///hawaii.sqlite\")\n",
    "\n",
    "# Create a connection to the engine called `conn`\n",
    "conn = engine.connect()"
   ]
  },
  {
   "cell_type": "code",
   "execution_count": 33,
   "metadata": {},
   "outputs": [
    {
     "data": {
      "text/plain": [
       "['measurements', 'stations']"
      ]
     },
     "execution_count": 33,
     "metadata": {},
     "output_type": "execute_result"
    }
   ],
   "source": [
    "# Declare a Base using 'automap_base()'\n",
    "Base = automap_base()\n",
    "\n",
    "# Use the Base class to reflect the database tables\n",
    "Base.prepare(conn, reflect = True)\n",
    "\n",
    "# Print all of the classes mapped to the Base\n",
    "Base.classes.keys()"
   ]
  },
  {
   "cell_type": "code",
   "execution_count": 34,
   "metadata": {},
   "outputs": [
    {
     "data": {
      "text/plain": [
       "['measurements', 'stations']"
      ]
     },
     "execution_count": 34,
     "metadata": {},
     "output_type": "execute_result"
    }
   ],
   "source": [
    "# Create the inspector and connect it to the engine\n",
    "inspector = inspect(engine)\n",
    "\n",
    "# Create the inspector and connect it to the engine\n",
    "inspector.get_table_names()"
   ]
  },
  {
   "cell_type": "code",
   "execution_count": 35,
   "metadata": {
    "scrolled": false
   },
   "outputs": [
    {
     "data": {
      "text/plain": [
       "[(1, 'USC00519397', '2010-01-01', 0.08, 65),\n",
       " (2, 'USC00519397', '2010-01-02', 0.0, 63),\n",
       " (3, 'USC00519397', '2010-01-03', 0.0, 74),\n",
       " (4, 'USC00519397', '2010-01-04', 0.0, 76),\n",
       " (5, 'USC00519397', '2010-01-07', 0.06, 70)]"
      ]
     },
     "execution_count": 35,
     "metadata": {},
     "output_type": "execute_result"
    }
   ],
   "source": [
    "# Test that the insert works by fetching the first 5 rows in measurements table\n",
    "conn.execute('SELECT * FROM measurements LIMIT 5').fetchall()"
   ]
  },
  {
   "cell_type": "code",
   "execution_count": 36,
   "metadata": {},
   "outputs": [
    {
     "data": {
      "text/plain": [
       "[(1, 'USC00519397', 'WAIKIKI 717.2, HI US', 21.2716, -157.8168, 3.0),\n",
       " (2, 'USC00513117', 'KANEOHE 838.1, HI US', 21.4234, -157.8015, 14.6),\n",
       " (3, 'USC00514830', 'KUALOA RANCH HEADQUARTERS 886.9, HI US', 21.5213, -157.8374, 7.0),\n",
       " (4, 'USC00517948', 'PEARL CITY, HI US', 21.3934, -157.9751, 11.9),\n",
       " (5, 'USC00518838', 'UPPER WAHIAWA 874.3, HI US', 21.4992, -158.0111, 306.6)]"
      ]
     },
     "execution_count": 36,
     "metadata": {},
     "output_type": "execute_result"
    }
   ],
   "source": [
    "# Test that the insert works by fetching the first 5 rows in stations table\n",
    "conn.execute('SELECT * FROM stations LIMIT 5').fetchall()"
   ]
  },
  {
   "cell_type": "code",
   "execution_count": 37,
   "metadata": {
    "collapsed": true
   },
   "outputs": [],
   "source": [
    "# Create instances of classes\n",
    "Measurements = Base.classes.measurements\n",
    "Stations = Base.classes.stations"
   ]
  },
  {
   "cell_type": "code",
   "execution_count": 38,
   "metadata": {
    "collapsed": true
   },
   "outputs": [],
   "source": [
    "# Use session\n",
    "session = Session(bind = engine)"
   ]
  },
  {
   "cell_type": "markdown",
   "metadata": {},
   "source": [
    "# Precipitation Analysis"
   ]
  },
  {
   "cell_type": "code",
   "execution_count": 39,
   "metadata": {},
   "outputs": [
    {
     "data": {
      "text/plain": [
       "('2017-08-23')"
      ]
     },
     "execution_count": 39,
     "metadata": {},
     "output_type": "execute_result"
    }
   ],
   "source": [
    "# latest date\n",
    "latest_date = session.query(Measurements.date).order_by(Measurements.date.desc()).first()\n",
    "latest_date"
   ]
  },
  {
   "cell_type": "code",
   "execution_count": 40,
   "metadata": {},
   "outputs": [
    {
     "data": {
      "text/plain": [
       "datetime.date(2016, 8, 23)"
      ]
     },
     "execution_count": 40,
     "metadata": {},
     "output_type": "execute_result"
    }
   ],
   "source": [
    "# last 12 months\n",
    "last_12_months = dt.date(2017, 8, 23) - dt.timedelta(days = 365)\n",
    "last_12_months"
   ]
  },
  {
   "cell_type": "code",
   "execution_count": 41,
   "metadata": {},
   "outputs": [
    {
     "data": {
      "text/plain": [
       "('2010-01-01')"
      ]
     },
     "execution_count": 41,
     "metadata": {},
     "output_type": "execute_result"
    }
   ],
   "source": [
    "# earliest date\n",
    "earliest_date = session.query(Measurements.date).order_by(Measurements.date).first()\n",
    "earliest_date"
   ]
  },
  {
   "cell_type": "code",
   "execution_count": 42,
   "metadata": {
    "collapsed": true
   },
   "outputs": [],
   "source": [
    "# query to retrieve the last 12 months of precipitation data\n",
    "last_12_months_prcp = session.query(Measurements.date, Measurements.prcp).  \\\n",
    "                       filter (Measurements.date > last_12_months).  \\\n",
    "                       order_by(Measurements.date).all()"
   ]
  },
  {
   "cell_type": "code",
   "execution_count": 43,
   "metadata": {},
   "outputs": [
    {
     "data": {
      "text/html": [
       "<div>\n",
       "<style>\n",
       "    .dataframe thead tr:only-child th {\n",
       "        text-align: right;\n",
       "    }\n",
       "\n",
       "    .dataframe thead th {\n",
       "        text-align: left;\n",
       "    }\n",
       "\n",
       "    .dataframe tbody tr th {\n",
       "        vertical-align: top;\n",
       "    }\n",
       "</style>\n",
       "<table border=\"1\" class=\"dataframe\">\n",
       "  <thead>\n",
       "    <tr style=\"text-align: right;\">\n",
       "      <th></th>\n",
       "      <th>prcp</th>\n",
       "    </tr>\n",
       "    <tr>\n",
       "      <th>date</th>\n",
       "      <th></th>\n",
       "    </tr>\n",
       "  </thead>\n",
       "  <tbody>\n",
       "    <tr>\n",
       "      <th>2016-08-24</th>\n",
       "      <td>0.08</td>\n",
       "    </tr>\n",
       "    <tr>\n",
       "      <th>2016-08-24</th>\n",
       "      <td>2.15</td>\n",
       "    </tr>\n",
       "    <tr>\n",
       "      <th>2016-08-24</th>\n",
       "      <td>2.28</td>\n",
       "    </tr>\n",
       "    <tr>\n",
       "      <th>2016-08-24</th>\n",
       "      <td>1.22</td>\n",
       "    </tr>\n",
       "    <tr>\n",
       "      <th>2016-08-24</th>\n",
       "      <td>2.15</td>\n",
       "    </tr>\n",
       "  </tbody>\n",
       "</table>\n",
       "</div>"
      ],
      "text/plain": [
       "            prcp\n",
       "date            \n",
       "2016-08-24  0.08\n",
       "2016-08-24  2.15\n",
       "2016-08-24  2.28\n",
       "2016-08-24  1.22\n",
       "2016-08-24  2.15"
      ]
     },
     "execution_count": 43,
     "metadata": {},
     "output_type": "execute_result"
    }
   ],
   "source": [
    "# Load data to pandas dataframe, set index to date\n",
    "last_12_months_precp_df = pd.DataFrame(last_12_months_prcp)\n",
    "last_12_months_precp_df.set_index('date').head()"
   ]
  },
  {
   "cell_type": "code",
   "execution_count": 44,
   "metadata": {},
   "outputs": [
    {
     "data": {
      "image/png": "[encoded data removed]",
      "text/plain": [
       "<matplotlib.figure.Figure at 0x1168f2be0>"
      ]
     },
     "metadata": {},
     "output_type": "display_data"
    }
   ],
   "source": [
    "# Plot using dataframe plot method\n",
    "last_12_months_precp_df.plot('date', 'prcp', color = 'blue', rot = 45, layout = 'tight')\n",
    "\n",
    "# Define title, labels and style\n",
    "plt.title('Last 12 months precipitation data')\n",
    "plt.xlabel('Date')\n",
    "plt.ylabel('Precipitation (inches)')\n",
    "plt.style.use('ggplot')\n",
    "\n",
    "# Print graph to the screen\n",
    "plt.show()"
   ]
  },
  {
   "cell_type": "code",
   "execution_count": 45,
   "metadata": {},
   "outputs": [
    {
     "data": {
      "text/html": [
       "<div>\n",
       "<style>\n",
       "    .dataframe thead tr:only-child th {\n",
       "        text-align: right;\n",
       "    }\n",
       "\n",
       "    .dataframe thead th {\n",
       "        text-align: left;\n",
       "    }\n",
       "\n",
       "    .dataframe tbody tr th {\n",
       "        vertical-align: top;\n",
       "    }\n",
       "</style>\n",
       "<table border=\"1\" class=\"dataframe\">\n",
       "  <thead>\n",
       "    <tr style=\"text-align: right;\">\n",
       "      <th></th>\n",
       "      <th>prcp</th>\n",
       "    </tr>\n",
       "  </thead>\n",
       "  <tbody>\n",
       "    <tr>\n",
       "      <th>count</th>\n",
       "      <td>2015.000000</td>\n",
       "    </tr>\n",
       "    <tr>\n",
       "      <th>mean</th>\n",
       "      <td>0.176462</td>\n",
       "    </tr>\n",
       "    <tr>\n",
       "      <th>std</th>\n",
       "      <td>0.460288</td>\n",
       "    </tr>\n",
       "    <tr>\n",
       "      <th>min</th>\n",
       "      <td>0.000000</td>\n",
       "    </tr>\n",
       "    <tr>\n",
       "      <th>25%</th>\n",
       "      <td>0.000000</td>\n",
       "    </tr>\n",
       "    <tr>\n",
       "      <th>50%</th>\n",
       "      <td>0.020000</td>\n",
       "    </tr>\n",
       "    <tr>\n",
       "      <th>75%</th>\n",
       "      <td>0.130000</td>\n",
       "    </tr>\n",
       "    <tr>\n",
       "      <th>max</th>\n",
       "      <td>6.700000</td>\n",
       "    </tr>\n",
       "  </tbody>\n",
       "</table>\n",
       "</div>"
      ],
      "text/plain": [
       "              prcp\n",
       "count  2015.000000\n",
       "mean      0.176462\n",
       "std       0.460288\n",
       "min       0.000000\n",
       "25%       0.000000\n",
       "50%       0.020000\n",
       "75%       0.130000\n",
       "max       6.700000"
      ]
     },
     "execution_count": 45,
     "metadata": {},
     "output_type": "execute_result"
    }
   ],
   "source": [
    "# Summary statistics for precipitation data\n",
    "last_12_months_precp_df.describe()"
   ]
  },
  {
   "cell_type": "markdown",
   "metadata": {},
   "source": [
    "# Station Analysis"
   ]
  },
  {
   "cell_type": "code",
   "execution_count": 46,
   "metadata": {},
   "outputs": [
    {
     "name": "stdout",
     "output_type": "stream",
     "text": [
      "Total number of stations: 9\n"
     ]
    }
   ],
   "source": [
    "# Calculate total number of stations\n",
    "stations_count =session.query(Stations.station).group_by(Stations.station).count()\n",
    "print('Total number of stations:', stations_count)"
   ]
  },
  {
   "cell_type": "code",
   "execution_count": 47,
   "metadata": {},
   "outputs": [
    {
     "name": "stdout",
     "output_type": "stream",
     "text": [
      "Stations and observation counts in descending order\n"
     ]
    },
    {
     "data": {
      "text/plain": [
       "[('USC00519281', 2772),\n",
       " ('USC00513117', 2696),\n",
       " ('USC00519397', 2685),\n",
       " ('USC00519523', 2572),\n",
       " ('USC00516128', 2484),\n",
       " ('USC00514830', 1937),\n",
       " ('USC00511918', 1932),\n",
       " ('USC00517948', 683),\n",
       " ('USC00518838', 342)]"
      ]
     },
     "execution_count": 47,
     "metadata": {},
     "output_type": "execute_result"
    }
   ],
   "source": [
    "# Station and observation counts in descending order\n",
    "station_desc = session.query(Measurements.station, func.count(Measurements.tobs)).  \\\n",
    "                group_by(Measurements.station).  \\\n",
    "                order_by(func.count(Measurements.tobs).desc()).all()\n",
    "print('Stations and observation counts in descending order')\n",
    "station_desc    "
   ]
  },
  {
   "cell_type": "code",
   "execution_count": 48,
   "metadata": {},
   "outputs": [
    {
     "name": "stdout",
     "output_type": "stream",
     "text": [
      "Station USC00519281 had the highest number of observations\n"
     ]
    }
   ],
   "source": [
    "# most active station with highest number of observations\n",
    "most_active_station = station_desc[0][0]\n",
    "print('Station', most_active_station, 'had the highest number of observations')"
   ]
  },
  {
   "cell_type": "code",
   "execution_count": 49,
   "metadata": {},
   "outputs": [
    {
     "data": {
      "text/plain": [
       "351"
      ]
     },
     "execution_count": 49,
     "metadata": {},
     "output_type": "execute_result"
    }
   ],
   "source": [
    "# Last 12 months of temperature observation data\n",
    "# Filter by Stations with highest number of observations\n",
    "last_12months_tobs = session.query(Measurements.station, Measurements.date, Measurements.tobs).  \\\n",
    "                     filter(Measurements.station == most_active_station).  \\\n",
    "                     filter(Measurements.date > last_12_months).  \\\n",
    "                     order_by(Measurements.date).all()\n",
    "len(last_12months_tobs)"
   ]
  },
  {
   "cell_type": "code",
   "execution_count": 50,
   "metadata": {},
   "outputs": [
    {
     "data": {
      "text/plain": [
       "[('USC00519281', '2016-08-24', 77),\n",
       " ('USC00519281', '2016-08-25', 80),\n",
       " ('USC00519281', '2016-08-26', 80),\n",
       " ('USC00519281', '2016-08-27', 75),\n",
       " ('USC00519281', '2016-08-28', 73),\n",
       " ('USC00519281', '2016-08-29', 78),\n",
       " ('USC00519281', '2016-08-30', 77),\n",
       " ('USC00519281', '2016-08-31', 78),\n",
       " ('USC00519281', '2016-09-01', 80),\n",
       " ('USC00519281', '2016-09-02', 80),\n",
       " ('USC00519281', '2016-09-03', 78),\n",
       " ('USC00519281', '2016-09-04', 78),\n",
       " ('USC00519281', '2016-09-05', 78),\n",
       " ('USC00519281', '2016-09-06', 73),\n",
       " ('USC00519281', '2016-09-07', 74),\n",
       " ('USC00519281', '2016-09-08', 80),\n",
       " ('USC00519281', '2016-09-09', 79),\n",
       " ('USC00519281', '2016-09-10', 77),\n",
       " ('USC00519281', '2016-09-11', 80),\n",
       " ('USC00519281', '2016-09-12', 76),\n",
       " ('USC00519281', '2016-09-13', 79),\n",
       " ('USC00519281', '2016-09-14', 75),\n",
       " ('USC00519281', '2016-09-15', 79),\n",
       " ('USC00519281', '2016-09-16', 78),\n",
       " ('USC00519281', '2016-09-17', 79),\n",
       " ('USC00519281', '2016-09-18', 78),\n",
       " ('USC00519281', '2016-09-19', 78),\n",
       " ('USC00519281', '2016-09-20', 76),\n",
       " ('USC00519281', '2016-09-21', 74),\n",
       " ('USC00519281', '2016-09-22', 77),\n",
       " ('USC00519281', '2016-09-23', 78),\n",
       " ('USC00519281', '2016-09-24', 79),\n",
       " ('USC00519281', '2016-09-25', 79),\n",
       " ('USC00519281', '2016-09-26', 77),\n",
       " ('USC00519281', '2016-09-27', 80),\n",
       " ('USC00519281', '2016-09-28', 78),\n",
       " ('USC00519281', '2016-09-29', 78),\n",
       " ('USC00519281', '2016-09-30', 78),\n",
       " ('USC00519281', '2016-10-01', 77),\n",
       " ('USC00519281', '2016-10-02', 79),\n",
       " ('USC00519281', '2016-10-03', 79),\n",
       " ('USC00519281', '2016-10-04', 79),\n",
       " ('USC00519281', '2016-10-05', 79),\n",
       " ('USC00519281', '2016-10-06', 75),\n",
       " ('USC00519281', '2016-10-07', 76),\n",
       " ('USC00519281', '2016-10-08', 73),\n",
       " ('USC00519281', '2016-10-09', 72),\n",
       " ('USC00519281', '2016-10-10', 71),\n",
       " ('USC00519281', '2016-10-11', 77),\n",
       " ('USC00519281', '2016-10-12', 79),\n",
       " ('USC00519281', '2016-10-13', 78),\n",
       " ('USC00519281', '2016-10-14', 79),\n",
       " ('USC00519281', '2016-10-15', 77),\n",
       " ('USC00519281', '2016-10-16', 79),\n",
       " ('USC00519281', '2016-10-17', 77),\n",
       " ('USC00519281', '2016-10-18', 78),\n",
       " ('USC00519281', '2016-10-19', 78),\n",
       " ('USC00519281', '2016-10-20', 78),\n",
       " ('USC00519281', '2016-10-21', 78),\n",
       " ('USC00519281', '2016-10-22', 77),\n",
       " ('USC00519281', '2016-10-23', 74),\n",
       " ('USC00519281', '2016-10-24', 75),\n",
       " ('USC00519281', '2016-10-25', 76),\n",
       " ('USC00519281', '2016-10-26', 73),\n",
       " ('USC00519281', '2016-10-27', 76),\n",
       " ('USC00519281', '2016-10-28', 74),\n",
       " ('USC00519281', '2016-10-29', 77),\n",
       " ('USC00519281', '2016-10-30', 76),\n",
       " ('USC00519281', '2016-10-31', 76),\n",
       " ('USC00519281', '2016-11-01', 74),\n",
       " ('USC00519281', '2016-11-02', 75),\n",
       " ('USC00519281', '2016-11-03', 75),\n",
       " ('USC00519281', '2016-11-04', 75),\n",
       " ('USC00519281', '2016-11-05', 75),\n",
       " ('USC00519281', '2016-11-06', 71),\n",
       " ('USC00519281', '2016-11-07', 63),\n",
       " ('USC00519281', '2016-11-08', 70),\n",
       " ('USC00519281', '2016-11-09', 68),\n",
       " ('USC00519281', '2016-11-10', 67),\n",
       " ('USC00519281', '2016-11-11', 77),\n",
       " ('USC00519281', '2016-11-12', 74),\n",
       " ('USC00519281', '2016-11-13', 77),\n",
       " ('USC00519281', '2016-11-14', 76),\n",
       " ('USC00519281', '2016-11-15', 76),\n",
       " ('USC00519281', '2016-11-16', 75),\n",
       " ('USC00519281', '2016-11-17', 76),\n",
       " ('USC00519281', '2016-11-18', 75),\n",
       " ('USC00519281', '2016-11-19', 73),\n",
       " ('USC00519281', '2016-11-20', 75),\n",
       " ('USC00519281', '2016-11-21', 73),\n",
       " ('USC00519281', '2016-11-22', 75),\n",
       " ('USC00519281', '2016-11-23', 74),\n",
       " ('USC00519281', '2016-11-24', 75),\n",
       " ('USC00519281', '2016-11-25', 74),\n",
       " ('USC00519281', '2016-11-26', 75),\n",
       " ('USC00519281', '2016-11-27', 73),\n",
       " ('USC00519281', '2016-11-28', 75),\n",
       " ('USC00519281', '2016-11-29', 73),\n",
       " ('USC00519281', '2016-11-30', 73),\n",
       " ('USC00519281', '2016-12-01', 74),\n",
       " ('USC00519281', '2016-12-02', 70),\n",
       " ('USC00519281', '2016-12-03', 72),\n",
       " ('USC00519281', '2016-12-04', 70),\n",
       " ('USC00519281', '2016-12-05', 67),\n",
       " ('USC00519281', '2016-12-06', 67),\n",
       " ('USC00519281', '2016-12-07', 69),\n",
       " ('USC00519281', '2016-12-08', 70),\n",
       " ('USC00519281', '2016-12-09', 68),\n",
       " ('USC00519281', '2016-12-10', 69),\n",
       " ('USC00519281', '2016-12-11', 69),\n",
       " ('USC00519281', '2016-12-12', 66),\n",
       " ('USC00519281', '2016-12-13', 65),\n",
       " ('USC00519281', '2016-12-14', 68),\n",
       " ('USC00519281', '2016-12-15', 62),\n",
       " ('USC00519281', '2016-12-16', 75),\n",
       " ('USC00519281', '2016-12-17', 70),\n",
       " ('USC00519281', '2016-12-18', 69),\n",
       " ('USC00519281', '2016-12-19', 76),\n",
       " ('USC00519281', '2016-12-20', 76),\n",
       " ('USC00519281', '2016-12-21', 74),\n",
       " ('USC00519281', '2016-12-22', 73),\n",
       " ('USC00519281', '2016-12-23', 71),\n",
       " ('USC00519281', '2016-12-24', 74),\n",
       " ('USC00519281', '2016-12-25', 74),\n",
       " ('USC00519281', '2016-12-26', 72),\n",
       " ('USC00519281', '2016-12-27', 71),\n",
       " ('USC00519281', '2016-12-28', 72),\n",
       " ('USC00519281', '2016-12-29', 74),\n",
       " ('USC00519281', '2016-12-30', 69),\n",
       " ('USC00519281', '2016-12-31', 67),\n",
       " ('USC00519281', '2017-01-01', 72),\n",
       " ('USC00519281', '2017-01-02', 70),\n",
       " ('USC00519281', '2017-01-03', 64),\n",
       " ('USC00519281', '2017-01-04', 63),\n",
       " ('USC00519281', '2017-01-05', 63),\n",
       " ('USC00519281', '2017-01-06', 62),\n",
       " ('USC00519281', '2017-01-07', 70),\n",
       " ('USC00519281', '2017-01-08', 70),\n",
       " ('USC00519281', '2017-01-09', 62),\n",
       " ('USC00519281', '2017-01-10', 62),\n",
       " ('USC00519281', '2017-01-11', 63),\n",
       " ('USC00519281', '2017-01-12', 65),\n",
       " ('USC00519281', '2017-01-13', 69),\n",
       " ('USC00519281', '2017-01-14', 77),\n",
       " ('USC00519281', '2017-01-15', 70),\n",
       " ('USC00519281', '2017-01-16', 74),\n",
       " ('USC00519281', '2017-01-17', 69),\n",
       " ('USC00519281', '2017-01-18', 72),\n",
       " ('USC00519281', '2017-01-19', 71),\n",
       " ('USC00519281', '2017-01-20', 69),\n",
       " ('USC00519281', '2017-01-21', 71),\n",
       " ('USC00519281', '2017-01-22', 71),\n",
       " ('USC00519281', '2017-01-23', 72),\n",
       " ('USC00519281', '2017-01-24', 72),\n",
       " ('USC00519281', '2017-01-25', 69),\n",
       " ('USC00519281', '2017-01-26', 70),\n",
       " ('USC00519281', '2017-01-27', 66),\n",
       " ('USC00519281', '2017-01-28', 65),\n",
       " ('USC00519281', '2017-01-29', 69),\n",
       " ('USC00519281', '2017-01-30', 68),\n",
       " ('USC00519281', '2017-01-31', 68),\n",
       " ('USC00519281', '2017-02-01', 68),\n",
       " ('USC00519281', '2017-02-02', 59),\n",
       " ('USC00519281', '2017-02-03', 60),\n",
       " ('USC00519281', '2017-02-04', 70),\n",
       " ('USC00519281', '2017-02-05', 73),\n",
       " ('USC00519281', '2017-02-06', 75),\n",
       " ('USC00519281', '2017-02-07', 64),\n",
       " ('USC00519281', '2017-02-08', 59),\n",
       " ('USC00519281', '2017-02-09', 59),\n",
       " ('USC00519281', '2017-02-10', 62),\n",
       " ('USC00519281', '2017-02-11', 68),\n",
       " ('USC00519281', '2017-02-12', 70),\n",
       " ('USC00519281', '2017-02-13', 73),\n",
       " ('USC00519281', '2017-02-14', 79),\n",
       " ('USC00519281', '2017-02-15', 75),\n",
       " ('USC00519281', '2017-02-16', 65),\n",
       " ('USC00519281', '2017-02-17', 70),\n",
       " ('USC00519281', '2017-02-18', 74),\n",
       " ('USC00519281', '2017-02-19', 70),\n",
       " ('USC00519281', '2017-02-20', 70),\n",
       " ('USC00519281', '2017-02-21', 71),\n",
       " ('USC00519281', '2017-02-22', 71),\n",
       " ('USC00519281', '2017-02-23', 71),\n",
       " ('USC00519281', '2017-02-24', 69),\n",
       " ('USC00519281', '2017-02-25', 61),\n",
       " ('USC00519281', '2017-02-26', 67),\n",
       " ('USC00519281', '2017-02-27', 65),\n",
       " ('USC00519281', '2017-02-28', 72),\n",
       " ('USC00519281', '2017-03-01', 71),\n",
       " ('USC00519281', '2017-03-02', 73),\n",
       " ('USC00519281', '2017-03-03', 72),\n",
       " ('USC00519281', '2017-03-04', 77),\n",
       " ('USC00519281', '2017-03-05', 73),\n",
       " ('USC00519281', '2017-03-06', 67),\n",
       " ('USC00519281', '2017-03-07', 62),\n",
       " ('USC00519281', '2017-03-08', 64),\n",
       " ('USC00519281', '2017-03-09', 67),\n",
       " ('USC00519281', '2017-03-10', 66),\n",
       " ('USC00519281', '2017-03-11', 81),\n",
       " ('USC00519281', '2017-03-12', 69),\n",
       " ('USC00519281', '2017-03-13', 66),\n",
       " ('USC00519281', '2017-03-14', 67),\n",
       " ('USC00519281', '2017-03-15', 69),\n",
       " ('USC00519281', '2017-03-16', 66),\n",
       " ('USC00519281', '2017-03-17', 68),\n",
       " ('USC00519281', '2017-03-18', 65),\n",
       " ('USC00519281', '2017-03-19', 74),\n",
       " ('USC00519281', '2017-03-20', 69),\n",
       " ('USC00519281', '2017-03-21', 72),\n",
       " ('USC00519281', '2017-03-22', 73),\n",
       " ('USC00519281', '2017-03-23', 72),\n",
       " ('USC00519281', '2017-03-24', 71),\n",
       " ('USC00519281', '2017-03-25', 76),\n",
       " ('USC00519281', '2017-03-26', 77),\n",
       " ('USC00519281', '2017-03-27', 76),\n",
       " ('USC00519281', '2017-03-28', 74),\n",
       " ('USC00519281', '2017-03-29', 68),\n",
       " ('USC00519281', '2017-03-30', 73),\n",
       " ('USC00519281', '2017-03-31', 71),\n",
       " ('USC00519281', '2017-04-01', 74),\n",
       " ('USC00519281', '2017-04-02', 75),\n",
       " ('USC00519281', '2017-04-03', 70),\n",
       " ('USC00519281', '2017-04-04', 67),\n",
       " ('USC00519281', '2017-04-05', 71),\n",
       " ('USC00519281', '2017-04-06', 67),\n",
       " ('USC00519281', '2017-04-07', 74),\n",
       " ('USC00519281', '2017-04-08', 77),\n",
       " ('USC00519281', '2017-04-09', 78),\n",
       " ('USC00519281', '2017-04-10', 67),\n",
       " ('USC00519281', '2017-04-11', 70),\n",
       " ('USC00519281', '2017-04-12', 69),\n",
       " ('USC00519281', '2017-04-13', 69),\n",
       " ('USC00519281', '2017-04-14', 74),\n",
       " ('USC00519281', '2017-04-15', 78),\n",
       " ('USC00519281', '2017-04-16', 71),\n",
       " ('USC00519281', '2017-04-17', 67),\n",
       " ('USC00519281', '2017-04-18', 68),\n",
       " ('USC00519281', '2017-04-19', 67),\n",
       " ('USC00519281', '2017-04-20', 76),\n",
       " ('USC00519281', '2017-04-21', 69),\n",
       " ('USC00519281', '2017-04-22', 72),\n",
       " ('USC00519281', '2017-04-23', 76),\n",
       " ('USC00519281', '2017-04-24', 68),\n",
       " ('USC00519281', '2017-04-25', 72),\n",
       " ('USC00519281', '2017-04-26', 74),\n",
       " ('USC00519281', '2017-04-27', 70),\n",
       " ('USC00519281', '2017-04-28', 67),\n",
       " ('USC00519281', '2017-04-29', 72),\n",
       " ('USC00519281', '2017-04-30', 60),\n",
       " ('USC00519281', '2017-05-01', 65),\n",
       " ('USC00519281', '2017-05-02', 75),\n",
       " ('USC00519281', '2017-05-03', 70),\n",
       " ('USC00519281', '2017-05-04', 75),\n",
       " ('USC00519281', '2017-05-05', 70),\n",
       " ('USC00519281', '2017-05-06', 79),\n",
       " ('USC00519281', '2017-05-07', 75),\n",
       " ('USC00519281', '2017-05-08', 70),\n",
       " ('USC00519281', '2017-05-09', 67),\n",
       " ('USC00519281', '2017-05-10', 74),\n",
       " ('USC00519281', '2017-05-11', 70),\n",
       " ('USC00519281', '2017-05-12', 75),\n",
       " ('USC00519281', '2017-05-13', 76),\n",
       " ('USC00519281', '2017-05-14', 77),\n",
       " ('USC00519281', '2017-05-15', 74),\n",
       " ('USC00519281', '2017-05-16', 74),\n",
       " ('USC00519281', '2017-05-17', 74),\n",
       " ('USC00519281', '2017-05-18', 69),\n",
       " ('USC00519281', '2017-05-19', 68),\n",
       " ('USC00519281', '2017-05-20', 76),\n",
       " ('USC00519281', '2017-05-21', 74),\n",
       " ('USC00519281', '2017-05-22', 71),\n",
       " ('USC00519281', '2017-05-23', 71),\n",
       " ('USC00519281', '2017-05-24', 74),\n",
       " ('USC00519281', '2017-05-25', 74),\n",
       " ('USC00519281', '2017-05-26', 74),\n",
       " ('USC00519281', '2017-05-27', 74),\n",
       " ('USC00519281', '2017-05-28', 80),\n",
       " ('USC00519281', '2017-05-29', 74),\n",
       " ('USC00519281', '2017-05-30', 72),\n",
       " ('USC00519281', '2017-05-31', 75),\n",
       " ('USC00519281', '2017-06-01', 80),\n",
       " ('USC00519281', '2017-06-02', 76),\n",
       " ('USC00519281', '2017-06-03', 76),\n",
       " ('USC00519281', '2017-06-04', 77),\n",
       " ('USC00519281', '2017-06-05', 75),\n",
       " ('USC00519281', '2017-06-06', 75),\n",
       " ('USC00519281', '2017-06-07', 75),\n",
       " ('USC00519281', '2017-06-08', 75),\n",
       " ('USC00519281', '2017-06-09', 72),\n",
       " ('USC00519281', '2017-06-10', 74),\n",
       " ('USC00519281', '2017-06-11', 74),\n",
       " ('USC00519281', '2017-06-12', 74),\n",
       " ('USC00519281', '2017-06-13', 76),\n",
       " ('USC00519281', '2017-06-14', 74),\n",
       " ('USC00519281', '2017-06-15', 75),\n",
       " ('USC00519281', '2017-06-16', 73),\n",
       " ('USC00519281', '2017-06-17', 79),\n",
       " ('USC00519281', '2017-06-18', 75),\n",
       " ('USC00519281', '2017-06-19', 72),\n",
       " ('USC00519281', '2017-06-20', 72),\n",
       " ('USC00519281', '2017-06-21', 74),\n",
       " ('USC00519281', '2017-06-22', 72),\n",
       " ('USC00519281', '2017-06-23', 72),\n",
       " ('USC00519281', '2017-06-24', 77),\n",
       " ('USC00519281', '2017-06-25', 71),\n",
       " ('USC00519281', '2017-06-26', 73),\n",
       " ('USC00519281', '2017-06-27', 76),\n",
       " ('USC00519281', '2017-06-28', 77),\n",
       " ('USC00519281', '2017-06-29', 76),\n",
       " ('USC00519281', '2017-06-30', 76),\n",
       " ('USC00519281', '2017-07-01', 79),\n",
       " ('USC00519281', '2017-07-02', 81),\n",
       " ('USC00519281', '2017-07-03', 76),\n",
       " ('USC00519281', '2017-07-04', 78),\n",
       " ('USC00519281', '2017-07-05', 77),\n",
       " ('USC00519281', '2017-07-06', 74),\n",
       " ('USC00519281', '2017-07-07', 75),\n",
       " ('USC00519281', '2017-07-08', 78),\n",
       " ('USC00519281', '2017-07-09', 78),\n",
       " ('USC00519281', '2017-07-10', 69),\n",
       " ('USC00519281', '2017-07-11', 72),\n",
       " ('USC00519281', '2017-07-12', 74),\n",
       " ('USC00519281', '2017-07-13', 74),\n",
       " ('USC00519281', '2017-07-14', 76),\n",
       " ('USC00519281', '2017-07-15', 80),\n",
       " ('USC00519281', '2017-07-16', 80),\n",
       " ('USC00519281', '2017-07-17', 76),\n",
       " ('USC00519281', '2017-07-18', 76),\n",
       " ('USC00519281', '2017-07-19', 76),\n",
       " ('USC00519281', '2017-07-20', 77),\n",
       " ('USC00519281', '2017-07-21', 77),\n",
       " ('USC00519281', '2017-07-22', 77),\n",
       " ('USC00519281', '2017-07-23', 82),\n",
       " ('USC00519281', '2017-07-24', 75),\n",
       " ('USC00519281', '2017-07-25', 77),\n",
       " ('USC00519281', '2017-07-26', 75),\n",
       " ('USC00519281', '2017-07-27', 76),\n",
       " ('USC00519281', '2017-07-28', 81),\n",
       " ('USC00519281', '2017-07-29', 82),\n",
       " ('USC00519281', '2017-07-30', 81),\n",
       " ('USC00519281', '2017-07-31', 76),\n",
       " ('USC00519281', '2017-08-04', 77),\n",
       " ('USC00519281', '2017-08-05', 82),\n",
       " ('USC00519281', '2017-08-06', 83),\n",
       " ('USC00519281', '2017-08-13', 77),\n",
       " ('USC00519281', '2017-08-14', 77),\n",
       " ('USC00519281', '2017-08-15', 77),\n",
       " ('USC00519281', '2017-08-16', 76),\n",
       " ('USC00519281', '2017-08-17', 76),\n",
       " ('USC00519281', '2017-08-18', 79)]"
      ]
     },
     "execution_count": 50,
     "metadata": {},
     "output_type": "execute_result"
    }
   ],
   "source": [
    "last_12months_tobs"
   ]
  },
  {
   "cell_type": "code",
   "execution_count": 51,
   "metadata": {
    "collapsed": true
   },
   "outputs": [],
   "source": [
    "# Put data into pandas dataframe\n",
    "last_12months_tobs_df = pd.DataFrame(last_12months_tobs)"
   ]
  },
  {
   "cell_type": "code",
   "execution_count": 52,
   "metadata": {},
   "outputs": [
    {
     "data": {
      "image/png": "[encoded data removed]",
      "text/plain": [
       "<matplotlib.figure.Figure at 0x11ef0a7b8>"
      ]
     },
     "metadata": {},
     "output_type": "display_data"
    }
   ],
   "source": [
    "# Plot histogram with bins = 12\n",
    "plt.hist(last_12months_tobs_df['tobs'], bins = 12, color = 'blue')\n",
    "plt.title('Temperature observation data for station USC00519281')\n",
    "plt.xlabel('Temperature (F)')\n",
    "plt.ylabel('Frequency')\n",
    "plt.style.use('ggplot')\n",
    "plt.show()"
   ]
  },
  {
   "cell_type": "markdown",
   "metadata": {},
   "source": [
    "# Temperature Analysis"
   ]
  },
  {
   "cell_type": "code",
   "execution_count": 53,
   "metadata": {
    "collapsed": true
   },
   "outputs": [],
   "source": [
    "# define calc_temps function\n",
    "def calc_temps(start_date, end_date):\n",
    "    dates = [start_date, end_date]\n",
    "    year_old_date = []\n",
    "    for i in dates:\n",
    "        date = i.split(\"-\")\n",
    "        date[0] = str(int(date[0]) - 1)\n",
    "        new_date = \"-\".join(date)\n",
    "        year_old_date.append(new_date)\n",
    "    print('Matching date for previous year: ', year_old_date)\n",
    "        \n",
    "    # query\n",
    "    query = session.query(Measurements.tobs).filter(Measurements.date >= start_date,  \\\n",
    "            Measurements.date <= end_date).all()\n",
    "    temps = [temp[0] for temp in query]\n",
    "    avg_temp = np.mean(temps)\n",
    "    min_temp = np.min(temps)\n",
    "    max_temp = np.max(temps)\n",
    "    \n",
    "    # create bar graph definition\n",
    "    plt.figure(figsize = (2, 6))\n",
    "    plt.title('Trip Ave Temp')\n",
    "    plt.ylabel('Temperature (F)')\n",
    "    plt.bar(1, avg_temp, yerr = (max_temp - min_temp), color = 'orange')\n",
    "    plt.show()"
   ]
  },
  {
   "cell_type": "code",
   "execution_count": 54,
   "metadata": {},
   "outputs": [
    {
     "name": "stdout",
     "output_type": "stream",
     "text": [
      "Matching date for previous year:  ['2016-01-01', '2016-01-10']\n"
     ]
    },
    {
     "data": {
      "image/png": "[encoded data removed]",
      "text/plain": [
       "<matplotlib.figure.Figure at 0x11eef9e48>"
      ]
     },
     "metadata": {},
     "output_type": "display_data"
    }
   ],
   "source": [
    "calc_temps('2017-01-01', '2017-01-10')"
   ]
  },
  {
   "cell_type": "code",
   "execution_count": null,
   "metadata": {
    "collapsed": true
   },
   "outputs": [],
   "source": []
  }
 ],
 "metadata": {
  "kernelspec": {
   "display_name": "Python 3",
   "language": "python",
   "name": "python3"
  },
  "language_info": {
   "codemirror_mode": {
    "name": "ipython",
    "version": 3
   },
   "file_extension": ".py",
   "mimetype": "text/x-python",
   "name": "python",
   "nbconvert_exporter": "python",
   "pygments_lexer": "ipython3",
   "version": "3.6.3"
  }
 },
 "nbformat": 4,
 "nbformat_minor": 2
}
