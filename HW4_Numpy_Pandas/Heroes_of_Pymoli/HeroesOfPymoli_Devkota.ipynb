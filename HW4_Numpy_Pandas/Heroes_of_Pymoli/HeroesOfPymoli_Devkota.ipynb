{
 "cells": [
  {
   "cell_type": "code",
   "execution_count": 79,
   "metadata": {
    "collapsed": true
   },
   "outputs": [],
   "source": [
    "# Name:  Ashwini Devkota\n",
    "# Assignment:  Heroes of Pymoli\n"
   ]
  },
  {
   "cell_type": "code",
   "execution_count": 80,
   "metadata": {},
   "outputs": [
    {
     "name": "stdout",
     "output_type": "stream",
     "text": [
      "\n",
      "\n",
      "      Summary of three observable trends\n",
      "      ---------------------------------- \n",
      "        1. Heroes of Pymoli game is mainly dominated by male players, and they consist of \n",
      "            more than 80 percent of the total players.  Hence, they also lead in Purchase Count\n",
      "            and Total Purchase Value.\n",
      "            \n",
      "        2. Age group 20-24 make up highest Purchase Count and Total purchase value, although \n",
      "            the average purchase price for this age group is the lowest.\n",
      "            \n",
      "        3. Most of the top spenders did not necessarily spent highest average price per item.  \n",
      "            However, they purchased more number of items, and this led to the highest \n",
      "            Total Purchase Value.\n",
      "        \n",
      "\n"
     ]
    }
   ],
   "source": [
    "# Summary of three observable trends based on data\n",
    "print('''\\n\n",
    "      Summary of three observable trends\n",
    "      ---------------------------------- \n",
    "        1. Heroes of Pymoli game is mainly dominated by male players, and they consist of \n",
    "            more than 80 percent of the total players.  Hence, they also lead in Purchase Count\n",
    "            and Total Purchase Value.\n",
    "            \n",
    "        2. Age group 20-24 make up highest Purchase Count and Total purchase value, although \n",
    "            the average purchase price for this age group is the lowest.\n",
    "            \n",
    "        3. Most of the top spenders did not necessarily spent highest average price per item.  \n",
    "            However, they purchased more number of items, and this led to the highest \n",
    "            Total Purchase Value.\n",
    "        \\n''')"
   ]
  },
  {
   "cell_type": "code",
   "execution_count": 81,
   "metadata": {
    "collapsed": true
   },
   "outputs": [],
   "source": [
    "# Import Dependencies\n",
    "import pandas as pd\n",
    "import numpy as np\n",
    "import os"
   ]
  },
  {
   "cell_type": "code",
   "execution_count": 82,
   "metadata": {
    "collapsed": true
   },
   "outputs": [],
   "source": [
    "#Import file and read into Pandas DataFrame\n",
    "data_file = \"purchase_data.json\"\n",
    "df = pd.read_json(data_file)\n",
    "\n",
    "# Print the first five rows of data to the screen\n",
    "# df.head()"
   ]
  },
  {
   "cell_type": "code",
   "execution_count": null,
   "metadata": {
    "collapsed": true
   },
   "outputs": [],
   "source": []
  },
  {
   "cell_type": "code",
   "execution_count": 83,
   "metadata": {},
   "outputs": [
    {
     "name": "stdout",
     "output_type": "stream",
     "text": [
      "\n",
      "Player Count\n",
      "------------\n"
     ]
    },
    {
     "data": {
      "text/html": [
       "<div>\n",
       "<style>\n",
       "    .dataframe thead tr:only-child th {\n",
       "        text-align: right;\n",
       "    }\n",
       "\n",
       "    .dataframe thead th {\n",
       "        text-align: left;\n",
       "    }\n",
       "\n",
       "    .dataframe tbody tr th {\n",
       "        vertical-align: top;\n",
       "    }\n",
       "</style>\n",
       "<table border=\"1\" class=\"dataframe\">\n",
       "  <thead>\n",
       "    <tr style=\"text-align: right;\">\n",
       "      <th></th>\n",
       "      <th>Total Players</th>\n",
       "    </tr>\n",
       "  </thead>\n",
       "  <tbody>\n",
       "    <tr>\n",
       "      <th>0</th>\n",
       "      <td>573</td>\n",
       "    </tr>\n",
       "  </tbody>\n",
       "</table>\n",
       "</div>"
      ],
      "text/plain": [
       "   Total Players\n",
       "0            573"
      ]
     },
     "execution_count": 83,
     "metadata": {},
     "output_type": "execute_result"
    }
   ],
   "source": [
    "# Find total number of unique players\n",
    "total_players = len(df[\"SN\"].unique())\n",
    "\n",
    "# Convert the result into a DataFrame\n",
    "total_players_df = pd.DataFrame({\"Total Players\" : [total_players]},\n",
    "                             columns = [\"Total Players\"])\n",
    "\n",
    "# Print \n",
    "print(\"\\nPlayer Count\")\n",
    "print(\"------------\")\n",
    "total_players_df"
   ]
  },
  {
   "cell_type": "code",
   "execution_count": null,
   "metadata": {
    "collapsed": true
   },
   "outputs": [],
   "source": []
  },
  {
   "cell_type": "code",
   "execution_count": 84,
   "metadata": {
    "collapsed": true
   },
   "outputs": [],
   "source": [
    "# Calculations for Purchasing Analysis (Total)\n",
    "Number_of_unique_items = len(df[\"Item ID\"].unique())\n",
    "Average_purchase_price = round(df[\"Price\"].mean(), 2)\n",
    "Total_number_of_purchases = len(df[\"Price\"])\n",
    "Total_Revenue = round(df[\"Price\"].sum(), 2)"
   ]
  },
  {
   "cell_type": "code",
   "execution_count": 85,
   "metadata": {},
   "outputs": [
    {
     "name": "stdout",
     "output_type": "stream",
     "text": [
      "\n",
      "Purchasing Analysis (Total)\n",
      "---------------------------\n"
     ]
    },
    {
     "data": {
      "text/html": [
       "<style  type=\"text/css\" >\n",
       "</style>  \n",
       "<table id=\"T_16dcfbe6_1035_11e8_9563_6c96cfdcdde3\" > \n",
       "<thead>    <tr> \n",
       "        <th class=\"blank level0\" ></th> \n",
       "        <th class=\"col_heading level0 col0\" >Number of Unique Items</th> \n",
       "        <th class=\"col_heading level0 col1\" >Average Purchase Price</th> \n",
       "        <th class=\"col_heading level0 col2\" >Number of Purchases</th> \n",
       "        <th class=\"col_heading level0 col3\" >Total Revenue</th> \n",
       "    </tr></thead> \n",
       "<tbody>    <tr> \n",
       "        <th id=\"T_16dcfbe6_1035_11e8_9563_6c96cfdcdde3level0_row0\" class=\"row_heading level0 row0\" >0</th> \n",
       "        <td id=\"T_16dcfbe6_1035_11e8_9563_6c96cfdcdde3row0_col0\" class=\"data row0 col0\" >183</td> \n",
       "        <td id=\"T_16dcfbe6_1035_11e8_9563_6c96cfdcdde3row0_col1\" class=\"data row0 col1\" >$2.93</td> \n",
       "        <td id=\"T_16dcfbe6_1035_11e8_9563_6c96cfdcdde3row0_col2\" class=\"data row0 col2\" >780</td> \n",
       "        <td id=\"T_16dcfbe6_1035_11e8_9563_6c96cfdcdde3row0_col3\" class=\"data row0 col3\" >$2286.33</td> \n",
       "    </tr></tbody> \n",
       "</table> "
      ],
      "text/plain": [
       "<pandas.io.formats.style.Styler at 0x110462b38>"
      ]
     },
     "execution_count": 85,
     "metadata": {},
     "output_type": "execute_result"
    }
   ],
   "source": [
    "# Add results into a DataFrame and specify columns\n",
    "purc_analysis_tot_df = pd.DataFrame([[Number_of_unique_items, Average_purchase_price, \n",
    "                                Total_number_of_purchases, Total_Revenue]],\n",
    "                    columns = [\"Number of Unique Items\", \"Average Purchase Price\", \n",
    "                               \"Number of Purchases\", \"Total Revenue\"])    \n",
    "\n",
    "# Format and print the DataFrame table\n",
    "print(\"\\nPurchasing Analysis (Total)\")\n",
    "print(\"---------------------------\")\n",
    "purc_analysis_tot_df.style.format({\"Average Purchase Price\" : \"${:.2f}\", \"Total Revenue\" : \"${:.2f}\"})"
   ]
  },
  {
   "cell_type": "code",
   "execution_count": null,
   "metadata": {
    "collapsed": true
   },
   "outputs": [],
   "source": []
  },
  {
   "cell_type": "code",
   "execution_count": 86,
   "metadata": {
    "collapsed": true
   },
   "outputs": [],
   "source": [
    "# Calculate count and percent of each Gender\n",
    "male_count = df[df[\"Gender\"] == \"Male\"][\"SN\"].nunique()\n",
    "female_count = df[df[\"Gender\"] == \"Female\"][\"SN\"].nunique()\n",
    "other_count = df[df[\"Gender\"] == \"Other / Non-Disclosed\"][\"SN\"].nunique()\n",
    "\n",
    "male_percent = (male_count / total_players) * 100\n",
    "female_percent = (female_count / total_players) * 100\n",
    "other_percent = (other_count / total_players) * 100"
   ]
  },
  {
   "cell_type": "code",
   "execution_count": 87,
   "metadata": {},
   "outputs": [
    {
     "name": "stdout",
     "output_type": "stream",
     "text": [
      "\n",
      "Gender Demographics\n",
      "-------------------\n"
     ]
    },
    {
     "data": {
      "text/html": [
       "<style  type=\"text/css\" >\n",
       "</style>  \n",
       "<table id=\"T_16e09940_1035_11e8_b54c_6c96cfdcdde3\" > \n",
       "<thead>    <tr> \n",
       "        <th class=\"blank level0\" ></th> \n",
       "        <th class=\"col_heading level0 col0\" >Percentage of Players</th> \n",
       "        <th class=\"col_heading level0 col1\" >Total Count</th> \n",
       "    </tr></thead> \n",
       "<tbody>    <tr> \n",
       "        <th id=\"T_16e09940_1035_11e8_b54c_6c96cfdcdde3level0_row0\" class=\"row_heading level0 row0\" >Male</th> \n",
       "        <td id=\"T_16e09940_1035_11e8_b54c_6c96cfdcdde3row0_col0\" class=\"data row0 col0\" >81.15%</td> \n",
       "        <td id=\"T_16e09940_1035_11e8_b54c_6c96cfdcdde3row0_col1\" class=\"data row0 col1\" >465</td> \n",
       "    </tr>    <tr> \n",
       "        <th id=\"T_16e09940_1035_11e8_b54c_6c96cfdcdde3level0_row1\" class=\"row_heading level0 row1\" >Female</th> \n",
       "        <td id=\"T_16e09940_1035_11e8_b54c_6c96cfdcdde3row1_col0\" class=\"data row1 col0\" >17.45%</td> \n",
       "        <td id=\"T_16e09940_1035_11e8_b54c_6c96cfdcdde3row1_col1\" class=\"data row1 col1\" >100</td> \n",
       "    </tr>    <tr> \n",
       "        <th id=\"T_16e09940_1035_11e8_b54c_6c96cfdcdde3level0_row2\" class=\"row_heading level0 row2\" >Other / Non-disclosed</th> \n",
       "        <td id=\"T_16e09940_1035_11e8_b54c_6c96cfdcdde3row2_col0\" class=\"data row2 col0\" >1.40%</td> \n",
       "        <td id=\"T_16e09940_1035_11e8_b54c_6c96cfdcdde3row2_col1\" class=\"data row2 col1\" >8</td> \n",
       "    </tr></tbody> \n",
       "</table> "
      ],
      "text/plain": [
       "<pandas.io.formats.style.Styler at 0x110453da0>"
      ]
     },
     "execution_count": 87,
     "metadata": {},
     "output_type": "execute_result"
    }
   ],
   "source": [
    "# Add results into a DataFrame, specify index and columns\n",
    "gender_dem_df = pd.DataFrame([[male_percent, male_count],\n",
    "                               [female_percent, female_count],\n",
    "                               [other_percent, other_count]],\n",
    "                            index = [\"Male\", \"Female\", \"Other / Non-disclosed\"],\n",
    "                            columns = [\"Percentage of Players\", \"Total Count\"])  \n",
    "\n",
    "# Format and print the DataFrame table\n",
    "print(\"\\nGender Demographics\")\n",
    "print(\"-------------------\")\n",
    "gender_dem_df.style.format({\"Percentage of Players\" : \"{:.2f}%\"})"
   ]
  },
  {
   "cell_type": "code",
   "execution_count": null,
   "metadata": {
    "collapsed": true
   },
   "outputs": [],
   "source": []
  },
  {
   "cell_type": "code",
   "execution_count": 88,
   "metadata": {
    "collapsed": true
   },
   "outputs": [],
   "source": [
    "# Calculate Purchase Count, Average Purchase Price, Total Purchase Value and Normalized totals for each Gender\n",
    "purchase_male = df[df[\"Gender\"] == \"Male\"][\"Price\"].count()\n",
    "purchase_female = df[df[\"Gender\"] == \"Female\"][\"Price\"].count()\n",
    "purchase_other = df[df[\"Gender\"] == \"Other / Non-Disclosed\"][\"Price\"].count()\n",
    "\n",
    "ave_price_male = df[df[\"Gender\"] == \"Male\"][\"Price\"].mean()\n",
    "ave_price_female = df[df[\"Gender\"] == \"Female\"][\"Price\"].mean()\n",
    "ave_price_other = df[df[\"Gender\"] == \"Other / Non-Disclosed\"][\"Price\"].mean()\n",
    "\n",
    "tot_value_male = df[df[\"Gender\"] == \"Male\"][\"Price\"].sum()\n",
    "tot_value_female = df[df[\"Gender\"] == \"Female\"][\"Price\"].sum()\n",
    "tot_value_other = df[df[\"Gender\"] == \"Other / Non-Disclosed\"][\"Price\"].sum()\n",
    "\n",
    "norm_tot_male = tot_value_male / male_count\n",
    "norm_tot_female = tot_value_female / female_count\n",
    "norm_tot_other = tot_value_other / other_count"
   ]
  },
  {
   "cell_type": "code",
   "execution_count": 89,
   "metadata": {},
   "outputs": [
    {
     "name": "stdout",
     "output_type": "stream",
     "text": [
      "\n",
      "Purchasing Analysis (Gender)\n",
      "----------------------------\n"
     ]
    },
    {
     "data": {
      "text/html": [
       "<style  type=\"text/css\" >\n",
       "</style>  \n",
       "<table id=\"T_16e6fa68_1035_11e8_81ec_6c96cfdcdde3\" > \n",
       "<thead>    <tr> \n",
       "        <th class=\"blank level0\" ></th> \n",
       "        <th class=\"col_heading level0 col0\" >Purchase Count</th> \n",
       "        <th class=\"col_heading level0 col1\" >Average Purchase Price</th> \n",
       "        <th class=\"col_heading level0 col2\" >Total Purchase Value</th> \n",
       "        <th class=\"col_heading level0 col3\" >Normalized Totals</th> \n",
       "    </tr></thead> \n",
       "<tbody>    <tr> \n",
       "        <th id=\"T_16e6fa68_1035_11e8_81ec_6c96cfdcdde3level0_row0\" class=\"row_heading level0 row0\" >Male</th> \n",
       "        <td id=\"T_16e6fa68_1035_11e8_81ec_6c96cfdcdde3row0_col0\" class=\"data row0 col0\" >633</td> \n",
       "        <td id=\"T_16e6fa68_1035_11e8_81ec_6c96cfdcdde3row0_col1\" class=\"data row0 col1\" >$2.95</td> \n",
       "        <td id=\"T_16e6fa68_1035_11e8_81ec_6c96cfdcdde3row0_col2\" class=\"data row0 col2\" >$1867.68</td> \n",
       "        <td id=\"T_16e6fa68_1035_11e8_81ec_6c96cfdcdde3row0_col3\" class=\"data row0 col3\" >$4.02</td> \n",
       "    </tr>    <tr> \n",
       "        <th id=\"T_16e6fa68_1035_11e8_81ec_6c96cfdcdde3level0_row1\" class=\"row_heading level0 row1\" >Female</th> \n",
       "        <td id=\"T_16e6fa68_1035_11e8_81ec_6c96cfdcdde3row1_col0\" class=\"data row1 col0\" >136</td> \n",
       "        <td id=\"T_16e6fa68_1035_11e8_81ec_6c96cfdcdde3row1_col1\" class=\"data row1 col1\" >$2.82</td> \n",
       "        <td id=\"T_16e6fa68_1035_11e8_81ec_6c96cfdcdde3row1_col2\" class=\"data row1 col2\" >$382.91</td> \n",
       "        <td id=\"T_16e6fa68_1035_11e8_81ec_6c96cfdcdde3row1_col3\" class=\"data row1 col3\" >$3.83</td> \n",
       "    </tr>    <tr> \n",
       "        <th id=\"T_16e6fa68_1035_11e8_81ec_6c96cfdcdde3level0_row2\" class=\"row_heading level0 row2\" >Other / Non-disclosed</th> \n",
       "        <td id=\"T_16e6fa68_1035_11e8_81ec_6c96cfdcdde3row2_col0\" class=\"data row2 col0\" >11</td> \n",
       "        <td id=\"T_16e6fa68_1035_11e8_81ec_6c96cfdcdde3row2_col1\" class=\"data row2 col1\" >$3.25</td> \n",
       "        <td id=\"T_16e6fa68_1035_11e8_81ec_6c96cfdcdde3row2_col2\" class=\"data row2 col2\" >$35.74</td> \n",
       "        <td id=\"T_16e6fa68_1035_11e8_81ec_6c96cfdcdde3row2_col3\" class=\"data row2 col3\" >$4.47</td> \n",
       "    </tr></tbody> \n",
       "</table> "
      ],
      "text/plain": [
       "<pandas.io.formats.style.Styler at 0x1104820b8>"
      ]
     },
     "execution_count": 89,
     "metadata": {},
     "output_type": "execute_result"
    }
   ],
   "source": [
    "# Add results into a DataFrame, specify index and columns\n",
    "purchasing_analysis_df = pd.DataFrame([[purchase_male, ave_price_male, tot_value_male, norm_tot_male],\n",
    "                               [purchase_female, ave_price_female, tot_value_female, norm_tot_female],\n",
    "                               [purchase_other, ave_price_other, tot_value_other, norm_tot_other]],\n",
    "                            index = [\"Male\", \"Female\", \"Other / Non-disclosed\"],\n",
    "                            columns = [\"Purchase Count\", \"Average Purchase Price\", \n",
    "                                       \"Total Purchase Value\", \"Normalized Totals\"])  \n",
    "\n",
    "# Format and print the DataFrame table\n",
    "print(\"\\nPurchasing Analysis (Gender)\")\n",
    "print(\"----------------------------\")\n",
    "purchasing_analysis_df.style.format({\"Average Purchase Price\" : \"${:.2f}\", \n",
    "                                     \"Total Purchase Value\" : \"${:.2f}\",\n",
    "                                     \"Normalized Totals\" : \"${:.2f}\"})"
   ]
  },
  {
   "cell_type": "code",
   "execution_count": null,
   "metadata": {
    "collapsed": true
   },
   "outputs": [],
   "source": []
  },
  {
   "cell_type": "code",
   "execution_count": 90,
   "metadata": {
    "collapsed": true
   },
   "outputs": [],
   "source": [
    "# Determine maximum and minimum Age values to create bins\n",
    "# print(\"max:\", df[\"Age\"].max())\n",
    "# print(\"min:\", df[\"Age\"].min())"
   ]
  },
  {
   "cell_type": "code",
   "execution_count": 91,
   "metadata": {
    "collapsed": true
   },
   "outputs": [],
   "source": [
    "# Create bins and assign group labels\n",
    "bins = [0, 9, 14, 19, 24, 29, 34, 39, 44]\n",
    "group_labels = [\"Less than 10\", \"10-14\", \"15-19\", \"20-24\", \"25-29\", \"30-34\", \"35-39\", \"40 or above\"]\n",
    "\n",
    "# Slice the data and place into bins\n",
    "pd.cut(df[\"Age\"], bins, labels = group_labels).head()\n",
    "\n",
    "# Place the data series into a new column named \"Age Group\" inside of the DataFrame\n",
    "df[\"Age Group\"] = pd.cut(df[\"Age\"], bins, labels = group_labels)\n",
    "# df.head()"
   ]
  },
  {
   "cell_type": "code",
   "execution_count": 92,
   "metadata": {
    "collapsed": true
   },
   "outputs": [],
   "source": [
    "# Create a groupby object based on \"Age Group\"\n",
    "by_group = df.groupby(\"Age Group\")\n",
    "\n",
    "# Calculations\n",
    "purchase_count = by_group[\"Age\"].count()\n",
    "total_purchase_value = by_group[\"Price\"].sum()\n",
    "average_purchase_price = by_group[\"Price\"].mean()\n",
    "normalized_totals = round((total_purchase_value / purchase_count), 2)\n",
    "\n",
    "# Add results to a DataFrame and rename column headers\n",
    "purchase_count_df = pd.DataFrame(purchase_count)\n",
    "renamed_purchase_count_df = purchase_count_df.rename(columns = {\"Age\" : \"Purchase Count\"})\n",
    "total_purchase_value_df = pd.DataFrame(total_purchase_value)\n",
    "renamed_total_purchase_value_df = total_purchase_value_df.rename(columns = {\"Price\" : \"Total Purchase Value\"})\n",
    "average_purchase_price_df = pd.DataFrame(average_purchase_price)\n",
    "renamed_average_purchase_price_df = average_purchase_price_df.rename(columns = {\"Price\" : \"Average Purchase Price\"})\n",
    "normalized_totals_df = pd.DataFrame(normalized_totals)\n",
    "renamed_normalized_total_df = normalized_totals_df.rename(columns = {0 : \"Normalized Totals\"})"
   ]
  },
  {
   "cell_type": "code",
   "execution_count": 93,
   "metadata": {},
   "outputs": [
    {
     "name": "stdout",
     "output_type": "stream",
     "text": [
      "\n",
      "Age Demographics\n",
      "----------------\n"
     ]
    },
    {
     "data": {
      "text/html": [
       "<style  type=\"text/css\" >\n",
       "</style>  \n",
       "<table id=\"T_16efcdd4_1035_11e8_9060_6c96cfdcdde3\" > \n",
       "<thead>    <tr> \n",
       "        <th class=\"blank level0\" ></th> \n",
       "        <th class=\"col_heading level0 col0\" >Purchase Count</th> \n",
       "        <th class=\"col_heading level0 col1\" >Average Purchase Price</th> \n",
       "        <th class=\"col_heading level0 col2\" >Total Purchase Value</th> \n",
       "        <th class=\"col_heading level0 col3\" >Normalized Totals</th> \n",
       "    </tr>    <tr> \n",
       "        <th class=\"index_name level0\" >Age Group</th> \n",
       "        <th class=\"blank\" ></th> \n",
       "        <th class=\"blank\" ></th> \n",
       "        <th class=\"blank\" ></th> \n",
       "        <th class=\"blank\" ></th> \n",
       "    </tr></thead> \n",
       "<tbody>    <tr> \n",
       "        <th id=\"T_16efcdd4_1035_11e8_9060_6c96cfdcdde3level0_row0\" class=\"row_heading level0 row0\" >Less than 10</th> \n",
       "        <td id=\"T_16efcdd4_1035_11e8_9060_6c96cfdcdde3row0_col0\" class=\"data row0 col0\" >28</td> \n",
       "        <td id=\"T_16efcdd4_1035_11e8_9060_6c96cfdcdde3row0_col1\" class=\"data row0 col1\" >$2.98</td> \n",
       "        <td id=\"T_16efcdd4_1035_11e8_9060_6c96cfdcdde3row0_col2\" class=\"data row0 col2\" >$83.46</td> \n",
       "        <td id=\"T_16efcdd4_1035_11e8_9060_6c96cfdcdde3row0_col3\" class=\"data row0 col3\" >$2.98</td> \n",
       "    </tr>    <tr> \n",
       "        <th id=\"T_16efcdd4_1035_11e8_9060_6c96cfdcdde3level0_row1\" class=\"row_heading level0 row1\" >10-14</th> \n",
       "        <td id=\"T_16efcdd4_1035_11e8_9060_6c96cfdcdde3row1_col0\" class=\"data row1 col0\" >35</td> \n",
       "        <td id=\"T_16efcdd4_1035_11e8_9060_6c96cfdcdde3row1_col1\" class=\"data row1 col1\" >$2.77</td> \n",
       "        <td id=\"T_16efcdd4_1035_11e8_9060_6c96cfdcdde3row1_col2\" class=\"data row1 col2\" >$96.95</td> \n",
       "        <td id=\"T_16efcdd4_1035_11e8_9060_6c96cfdcdde3row1_col3\" class=\"data row1 col3\" >$2.77</td> \n",
       "    </tr>    <tr> \n",
       "        <th id=\"T_16efcdd4_1035_11e8_9060_6c96cfdcdde3level0_row2\" class=\"row_heading level0 row2\" >15-19</th> \n",
       "        <td id=\"T_16efcdd4_1035_11e8_9060_6c96cfdcdde3row2_col0\" class=\"data row2 col0\" >133</td> \n",
       "        <td id=\"T_16efcdd4_1035_11e8_9060_6c96cfdcdde3row2_col1\" class=\"data row2 col1\" >$2.91</td> \n",
       "        <td id=\"T_16efcdd4_1035_11e8_9060_6c96cfdcdde3row2_col2\" class=\"data row2 col2\" >$386.42</td> \n",
       "        <td id=\"T_16efcdd4_1035_11e8_9060_6c96cfdcdde3row2_col3\" class=\"data row2 col3\" >$2.91</td> \n",
       "    </tr>    <tr> \n",
       "        <th id=\"T_16efcdd4_1035_11e8_9060_6c96cfdcdde3level0_row3\" class=\"row_heading level0 row3\" >20-24</th> \n",
       "        <td id=\"T_16efcdd4_1035_11e8_9060_6c96cfdcdde3row3_col0\" class=\"data row3 col0\" >336</td> \n",
       "        <td id=\"T_16efcdd4_1035_11e8_9060_6c96cfdcdde3row3_col1\" class=\"data row3 col1\" >$2.91</td> \n",
       "        <td id=\"T_16efcdd4_1035_11e8_9060_6c96cfdcdde3row3_col2\" class=\"data row3 col2\" >$978.77</td> \n",
       "        <td id=\"T_16efcdd4_1035_11e8_9060_6c96cfdcdde3row3_col3\" class=\"data row3 col3\" >$2.91</td> \n",
       "    </tr>    <tr> \n",
       "        <th id=\"T_16efcdd4_1035_11e8_9060_6c96cfdcdde3level0_row4\" class=\"row_heading level0 row4\" >25-29</th> \n",
       "        <td id=\"T_16efcdd4_1035_11e8_9060_6c96cfdcdde3row4_col0\" class=\"data row4 col0\" >125</td> \n",
       "        <td id=\"T_16efcdd4_1035_11e8_9060_6c96cfdcdde3row4_col1\" class=\"data row4 col1\" >$2.96</td> \n",
       "        <td id=\"T_16efcdd4_1035_11e8_9060_6c96cfdcdde3row4_col2\" class=\"data row4 col2\" >$370.33</td> \n",
       "        <td id=\"T_16efcdd4_1035_11e8_9060_6c96cfdcdde3row4_col3\" class=\"data row4 col3\" >$2.96</td> \n",
       "    </tr>    <tr> \n",
       "        <th id=\"T_16efcdd4_1035_11e8_9060_6c96cfdcdde3level0_row5\" class=\"row_heading level0 row5\" >30-34</th> \n",
       "        <td id=\"T_16efcdd4_1035_11e8_9060_6c96cfdcdde3row5_col0\" class=\"data row5 col0\" >64</td> \n",
       "        <td id=\"T_16efcdd4_1035_11e8_9060_6c96cfdcdde3row5_col1\" class=\"data row5 col1\" >$3.08</td> \n",
       "        <td id=\"T_16efcdd4_1035_11e8_9060_6c96cfdcdde3row5_col2\" class=\"data row5 col2\" >$197.25</td> \n",
       "        <td id=\"T_16efcdd4_1035_11e8_9060_6c96cfdcdde3row5_col3\" class=\"data row5 col3\" >$3.08</td> \n",
       "    </tr>    <tr> \n",
       "        <th id=\"T_16efcdd4_1035_11e8_9060_6c96cfdcdde3level0_row6\" class=\"row_heading level0 row6\" >35-39</th> \n",
       "        <td id=\"T_16efcdd4_1035_11e8_9060_6c96cfdcdde3row6_col0\" class=\"data row6 col0\" >42</td> \n",
       "        <td id=\"T_16efcdd4_1035_11e8_9060_6c96cfdcdde3row6_col1\" class=\"data row6 col1\" >$2.84</td> \n",
       "        <td id=\"T_16efcdd4_1035_11e8_9060_6c96cfdcdde3row6_col2\" class=\"data row6 col2\" >$119.40</td> \n",
       "        <td id=\"T_16efcdd4_1035_11e8_9060_6c96cfdcdde3row6_col3\" class=\"data row6 col3\" >$2.84</td> \n",
       "    </tr>    <tr> \n",
       "        <th id=\"T_16efcdd4_1035_11e8_9060_6c96cfdcdde3level0_row7\" class=\"row_heading level0 row7\" >40 or above</th> \n",
       "        <td id=\"T_16efcdd4_1035_11e8_9060_6c96cfdcdde3row7_col0\" class=\"data row7 col0\" >16</td> \n",
       "        <td id=\"T_16efcdd4_1035_11e8_9060_6c96cfdcdde3row7_col1\" class=\"data row7 col1\" >$3.19</td> \n",
       "        <td id=\"T_16efcdd4_1035_11e8_9060_6c96cfdcdde3row7_col2\" class=\"data row7 col2\" >$51.03</td> \n",
       "        <td id=\"T_16efcdd4_1035_11e8_9060_6c96cfdcdde3row7_col3\" class=\"data row7 col3\" >$3.19</td> \n",
       "    </tr></tbody> \n",
       "</table> "
      ],
      "text/plain": [
       "<pandas.io.formats.style.Styler at 0x110e4cc88>"
      ]
     },
     "execution_count": 93,
     "metadata": {},
     "output_type": "execute_result"
    }
   ],
   "source": [
    "# Merge DataFrame tables\n",
    "merge_table1 = pd.DataFrame.join(renamed_purchase_count_df, renamed_average_purchase_price_df)\n",
    "merge_table2 = pd.DataFrame.join(merge_table1, renamed_total_purchase_value_df)\n",
    "age_demographics_df = pd.DataFrame.join(merge_table2, renamed_normalized_total_df)\n",
    "\n",
    "# Format and print the DataFrame table\n",
    "print(\"\\nAge Demographics\")\n",
    "print(\"----------------\")\n",
    "age_demographics_df.style.format({\"Average Purchase Price\" : \"${:.2f}\", \n",
    "                                            \"Total Purchase Value\" : \"${:.2f}\",\n",
    "                                            \"Normalized Totals\" : \"${:.2f}\"})"
   ]
  },
  {
   "cell_type": "code",
   "execution_count": null,
   "metadata": {
    "collapsed": true
   },
   "outputs": [],
   "source": []
  },
  {
   "cell_type": "code",
   "execution_count": 94,
   "metadata": {
    "collapsed": true
   },
   "outputs": [],
   "source": [
    "# Groupby players to determine Total Purchase Value, Average Purchase Price and Purchase Count\n",
    "purchase_total = df.groupby(\"SN\")[\"Price\"].sum().to_frame()\n",
    "purchase_count = df.groupby(\"SN\")[\"Price\"].count().to_frame() \n",
    "purchase_average = df.groupby(\"SN\")[\"Price\"].mean().to_frame()\n",
    "\n",
    "# Rename columns\n",
    "purchase_count.columns = [\"Purchase Count\"]\n",
    "purchase_total.columns = [\"Total Purchase Value\"]\n",
    "purchase_average.columns = [\"Average Purchase Price\"]"
   ]
  },
  {
   "cell_type": "code",
   "execution_count": 95,
   "metadata": {},
   "outputs": [
    {
     "name": "stdout",
     "output_type": "stream",
     "text": [
      "\n",
      "Top Spenders\n",
      "------------\n"
     ]
    },
    {
     "data": {
      "text/html": [
       "<style  type=\"text/css\" >\n",
       "</style>  \n",
       "<table id=\"T_16f4e580_1035_11e8_8306_6c96cfdcdde3\" > \n",
       "<thead>    <tr> \n",
       "        <th class=\"blank level0\" ></th> \n",
       "        <th class=\"col_heading level0 col0\" >Purchase Count</th> \n",
       "        <th class=\"col_heading level0 col1\" >Average Purchase Price</th> \n",
       "        <th class=\"col_heading level0 col2\" >Total Purchase Value</th> \n",
       "    </tr>    <tr> \n",
       "        <th class=\"index_name level0\" >SN</th> \n",
       "        <th class=\"blank\" ></th> \n",
       "        <th class=\"blank\" ></th> \n",
       "        <th class=\"blank\" ></th> \n",
       "    </tr></thead> \n",
       "<tbody>    <tr> \n",
       "        <th id=\"T_16f4e580_1035_11e8_8306_6c96cfdcdde3level0_row0\" class=\"row_heading level0 row0\" >Undirrala66</th> \n",
       "        <td id=\"T_16f4e580_1035_11e8_8306_6c96cfdcdde3row0_col0\" class=\"data row0 col0\" >5</td> \n",
       "        <td id=\"T_16f4e580_1035_11e8_8306_6c96cfdcdde3row0_col1\" class=\"data row0 col1\" >$3.41</td> \n",
       "        <td id=\"T_16f4e580_1035_11e8_8306_6c96cfdcdde3row0_col2\" class=\"data row0 col2\" >$17.06</td> \n",
       "    </tr>    <tr> \n",
       "        <th id=\"T_16f4e580_1035_11e8_8306_6c96cfdcdde3level0_row1\" class=\"row_heading level0 row1\" >Saedue76</th> \n",
       "        <td id=\"T_16f4e580_1035_11e8_8306_6c96cfdcdde3row1_col0\" class=\"data row1 col0\" >4</td> \n",
       "        <td id=\"T_16f4e580_1035_11e8_8306_6c96cfdcdde3row1_col1\" class=\"data row1 col1\" >$3.39</td> \n",
       "        <td id=\"T_16f4e580_1035_11e8_8306_6c96cfdcdde3row1_col2\" class=\"data row1 col2\" >$13.56</td> \n",
       "    </tr>    <tr> \n",
       "        <th id=\"T_16f4e580_1035_11e8_8306_6c96cfdcdde3level0_row2\" class=\"row_heading level0 row2\" >Mindimnya67</th> \n",
       "        <td id=\"T_16f4e580_1035_11e8_8306_6c96cfdcdde3row2_col0\" class=\"data row2 col0\" >4</td> \n",
       "        <td id=\"T_16f4e580_1035_11e8_8306_6c96cfdcdde3row2_col1\" class=\"data row2 col1\" >$3.18</td> \n",
       "        <td id=\"T_16f4e580_1035_11e8_8306_6c96cfdcdde3row2_col2\" class=\"data row2 col2\" >$12.74</td> \n",
       "    </tr>    <tr> \n",
       "        <th id=\"T_16f4e580_1035_11e8_8306_6c96cfdcdde3level0_row3\" class=\"row_heading level0 row3\" >Haellysu29</th> \n",
       "        <td id=\"T_16f4e580_1035_11e8_8306_6c96cfdcdde3row3_col0\" class=\"data row3 col0\" >3</td> \n",
       "        <td id=\"T_16f4e580_1035_11e8_8306_6c96cfdcdde3row3_col1\" class=\"data row3 col1\" >$4.24</td> \n",
       "        <td id=\"T_16f4e580_1035_11e8_8306_6c96cfdcdde3row3_col2\" class=\"data row3 col2\" >$12.73</td> \n",
       "    </tr>    <tr> \n",
       "        <th id=\"T_16f4e580_1035_11e8_8306_6c96cfdcdde3level0_row4\" class=\"row_heading level0 row4\" >Eoda93</th> \n",
       "        <td id=\"T_16f4e580_1035_11e8_8306_6c96cfdcdde3row4_col0\" class=\"data row4 col0\" >3</td> \n",
       "        <td id=\"T_16f4e580_1035_11e8_8306_6c96cfdcdde3row4_col1\" class=\"data row4 col1\" >$3.86</td> \n",
       "        <td id=\"T_16f4e580_1035_11e8_8306_6c96cfdcdde3row4_col2\" class=\"data row4 col2\" >$11.58</td> \n",
       "    </tr></tbody> \n",
       "</table> "
      ],
      "text/plain": [
       "<pandas.io.formats.style.Styler at 0x11043d320>"
      ]
     },
     "execution_count": 95,
     "metadata": {},
     "output_type": "execute_result"
    }
   ],
   "source": [
    "# Merge the DataFrames\n",
    "merge1 = pd.DataFrame.join(purchase_count, purchase_average)\n",
    "merge2 = pd.DataFrame.join(merge1, purchase_total)\n",
    "\n",
    "# Put column names in order\n",
    "merge2.columns = [\"Purchase Count\", \"Average Purchase Price\", \"Total Purchase Value\"]\n",
    "\n",
    "# Format and print the DataFrame table\n",
    "print(\"\\nTop Spenders\")\n",
    "print(\"------------\")\n",
    "top_spenders = merge2.sort_values('Total Purchase Value', ascending = False).head()\n",
    "top_spenders.style.format({\"Average Purchase Price\" : \"${:.2f}\", \"Total Purchase Value\" : \"${:.2f}\"})"
   ]
  },
  {
   "cell_type": "code",
   "execution_count": null,
   "metadata": {
    "collapsed": true
   },
   "outputs": [],
   "source": []
  },
  {
   "cell_type": "code",
   "execution_count": 96,
   "metadata": {
    "collapsed": true
   },
   "outputs": [],
   "source": [
    "# Groupe by following items\n",
    "sum_id = df.groupby(\"Item ID\").sum().reset_index()\n",
    "sum_name = df.groupby(\"Item Name\").sum().reset_index()\n",
    "count_item = df.groupby(\"Item Name\").count().reset_index()\n",
    "\n",
    "# Merge DataFrames\n",
    "m1 = pd.merge(sum_name, sum_id, on = \"Price\")\n",
    "m2 = pd.merge(count_item, m1, on = \"Item Name\")\n",
    "# m2.head()"
   ]
  },
  {
   "cell_type": "code",
   "execution_count": 97,
   "metadata": {},
   "outputs": [
    {
     "name": "stdout",
     "output_type": "stream",
     "text": [
      "\n",
      "Most Popular Items\n",
      "------------------\n"
     ]
    },
    {
     "data": {
      "text/html": [
       "<style  type=\"text/css\" >\n",
       "</style>  \n",
       "<table id=\"T_16fbe1b4_1035_11e8_b651_6c96cfdcdde3\" > \n",
       "<thead>    <tr> \n",
       "        <th class=\"blank\" ></th> \n",
       "        <th class=\"blank level0\" ></th> \n",
       "        <th class=\"col_heading level0 col0\" >Purchase Count</th> \n",
       "        <th class=\"col_heading level0 col1\" >Item Price</th> \n",
       "        <th class=\"col_heading level0 col2\" >Total Purchase Value</th> \n",
       "    </tr>    <tr> \n",
       "        <th class=\"index_name level0\" >Item Name</th> \n",
       "        <th class=\"index_name level1\" >Item ID</th> \n",
       "        <th class=\"blank\" ></th> \n",
       "        <th class=\"blank\" ></th> \n",
       "        <th class=\"blank\" ></th> \n",
       "    </tr></thead> \n",
       "<tbody>    <tr> \n",
       "        <th id=\"T_16fbe1b4_1035_11e8_b651_6c96cfdcdde3level0_row0\" class=\"row_heading level0 row0\" >Arcane Gem</th> \n",
       "        <th id=\"T_16fbe1b4_1035_11e8_b651_6c96cfdcdde3level1_row0\" class=\"row_heading level1 row0\" >84</th> \n",
       "        <td id=\"T_16fbe1b4_1035_11e8_b651_6c96cfdcdde3row0_col0\" class=\"data row0 col0\" >11</td> \n",
       "        <td id=\"T_16fbe1b4_1035_11e8_b651_6c96cfdcdde3row0_col1\" class=\"data row0 col1\" >$2.23</td> \n",
       "        <td id=\"T_16fbe1b4_1035_11e8_b651_6c96cfdcdde3row0_col2\" class=\"data row0 col2\" >$24.53</td> \n",
       "    </tr>    <tr> \n",
       "        <th id=\"T_16fbe1b4_1035_11e8_b651_6c96cfdcdde3level0_row1\" class=\"row_heading level0 row1\" >Betrayal, Whisper of Grieving Widows</th> \n",
       "        <th id=\"T_16fbe1b4_1035_11e8_b651_6c96cfdcdde3level1_row1\" class=\"row_heading level1 row1\" >39</th> \n",
       "        <td id=\"T_16fbe1b4_1035_11e8_b651_6c96cfdcdde3row1_col0\" class=\"data row1 col0\" >11</td> \n",
       "        <td id=\"T_16fbe1b4_1035_11e8_b651_6c96cfdcdde3row1_col1\" class=\"data row1 col1\" >$2.35</td> \n",
       "        <td id=\"T_16fbe1b4_1035_11e8_b651_6c96cfdcdde3row1_col2\" class=\"data row1 col2\" >$25.85</td> \n",
       "    </tr>    <tr> \n",
       "        <th id=\"T_16fbe1b4_1035_11e8_b651_6c96cfdcdde3level0_row2\" class=\"row_heading level0 row2\" >Trickster</th> \n",
       "        <th id=\"T_16fbe1b4_1035_11e8_b651_6c96cfdcdde3level1_row2\" class=\"row_heading level1 row2\" >31</th> \n",
       "        <td id=\"T_16fbe1b4_1035_11e8_b651_6c96cfdcdde3row2_col0\" class=\"data row2 col0\" >9</td> \n",
       "        <td id=\"T_16fbe1b4_1035_11e8_b651_6c96cfdcdde3row2_col1\" class=\"data row2 col1\" >$2.07</td> \n",
       "        <td id=\"T_16fbe1b4_1035_11e8_b651_6c96cfdcdde3row2_col2\" class=\"data row2 col2\" >$18.63</td> \n",
       "    </tr>    <tr> \n",
       "        <th id=\"T_16fbe1b4_1035_11e8_b651_6c96cfdcdde3level0_row3\" class=\"row_heading level0 row3\" >Woeful Adamantite Claymore</th> \n",
       "        <th id=\"T_16fbe1b4_1035_11e8_b651_6c96cfdcdde3level1_row3\" class=\"row_heading level1 row3\" >175</th> \n",
       "        <td id=\"T_16fbe1b4_1035_11e8_b651_6c96cfdcdde3row3_col0\" class=\"data row3 col0\" >9</td> \n",
       "        <td id=\"T_16fbe1b4_1035_11e8_b651_6c96cfdcdde3row3_col1\" class=\"data row3 col1\" >$1.24</td> \n",
       "        <td id=\"T_16fbe1b4_1035_11e8_b651_6c96cfdcdde3row3_col2\" class=\"data row3 col2\" >$11.16</td> \n",
       "    </tr>    <tr> \n",
       "        <th id=\"T_16fbe1b4_1035_11e8_b651_6c96cfdcdde3level0_row4\" class=\"row_heading level0 row4\" >Serenity</th> \n",
       "        <th id=\"T_16fbe1b4_1035_11e8_b651_6c96cfdcdde3level1_row4\" class=\"row_heading level1 row4\" >13</th> \n",
       "        <td id=\"T_16fbe1b4_1035_11e8_b651_6c96cfdcdde3row4_col0\" class=\"data row4 col0\" >9</td> \n",
       "        <td id=\"T_16fbe1b4_1035_11e8_b651_6c96cfdcdde3row4_col1\" class=\"data row4 col1\" >$1.49</td> \n",
       "        <td id=\"T_16fbe1b4_1035_11e8_b651_6c96cfdcdde3row4_col2\" class=\"data row4 col2\" >$13.41</td> \n",
       "    </tr></tbody> \n",
       "</table> "
      ],
      "text/plain": [
       "<pandas.io.formats.style.Styler at 0x110428da0>"
      ]
     },
     "execution_count": 97,
     "metadata": {},
     "output_type": "execute_result"
    }
   ],
   "source": [
    "# Calculate item price and rename all column names to more descriptive names\n",
    "m2[\"Gender\"] = round((m2[\"Price_y\"]/m2[\"Item ID\"]), 2)\n",
    "m2_renamed = m2.rename(columns = {\"Age\" : \"Purchase Count\",\n",
    "                                 \"Gender\" : \"Item Price\",\n",
    "                                 \"Item ID\" : \"null\",\n",
    "                                 \"Price_y\" : \"Total Purchase Value\",\n",
    "                                 \"Item ID_y\" : \"Item ID\"})\n",
    "\n",
    "# Reorder column names and set index\n",
    "m2_organized = m2_renamed[[\"Item ID\", \"Item Name\", \"Purchase Count\", \"Item Price\", \"Total Purchase Value\"]]\n",
    "m2_organized_indexed = m2_organized.set_index([\"Item Name\", \"Item ID\"])\n",
    "\n",
    "# Format, sort according to Purchase count and print 5 most popular items\n",
    "print(\"\\nMost Popular Items\")\n",
    "print(\"------------------\")\n",
    "most_popular_items = m2_organized_indexed.sort_values(\"Purchase Count\", ascending = False).head()\n",
    "most_popular_items.style.format({\"Item Price\" : \"${:.2f}\", \"Total Purchase Value\" : \"${:.2f}\"})\n"
   ]
  },
  {
   "cell_type": "code",
   "execution_count": null,
   "metadata": {
    "collapsed": true
   },
   "outputs": [],
   "source": []
  },
  {
   "cell_type": "code",
   "execution_count": 98,
   "metadata": {},
   "outputs": [
    {
     "name": "stdout",
     "output_type": "stream",
     "text": [
      "\n",
      "Most Profitable Items\n",
      "---------------------\n"
     ]
    },
    {
     "data": {
      "text/html": [
       "<style  type=\"text/css\" >\n",
       "</style>  \n",
       "<table id=\"T_16fddcc6_1035_11e8_bac1_6c96cfdcdde3\" > \n",
       "<thead>    <tr> \n",
       "        <th class=\"blank\" ></th> \n",
       "        <th class=\"blank level0\" ></th> \n",
       "        <th class=\"col_heading level0 col0\" >Purchase Count</th> \n",
       "        <th class=\"col_heading level0 col1\" >Item Price</th> \n",
       "        <th class=\"col_heading level0 col2\" >Total Purchase Value</th> \n",
       "    </tr>    <tr> \n",
       "        <th class=\"index_name level0\" >Item Name</th> \n",
       "        <th class=\"index_name level1\" >Item ID</th> \n",
       "        <th class=\"blank\" ></th> \n",
       "        <th class=\"blank\" ></th> \n",
       "        <th class=\"blank\" ></th> \n",
       "    </tr></thead> \n",
       "<tbody>    <tr> \n",
       "        <th id=\"T_16fddcc6_1035_11e8_bac1_6c96cfdcdde3level0_row0\" class=\"row_heading level0 row0\" >Retribution Axe</th> \n",
       "        <th id=\"T_16fddcc6_1035_11e8_bac1_6c96cfdcdde3level1_row0\" class=\"row_heading level1 row0\" >34</th> \n",
       "        <td id=\"T_16fddcc6_1035_11e8_bac1_6c96cfdcdde3row0_col0\" class=\"data row0 col0\" >9</td> \n",
       "        <td id=\"T_16fddcc6_1035_11e8_bac1_6c96cfdcdde3row0_col1\" class=\"data row0 col1\" >$4.14</td> \n",
       "        <td id=\"T_16fddcc6_1035_11e8_bac1_6c96cfdcdde3row0_col2\" class=\"data row0 col2\" >$37.26</td> \n",
       "    </tr>    <tr> \n",
       "        <th id=\"T_16fddcc6_1035_11e8_bac1_6c96cfdcdde3level0_row1\" class=\"row_heading level0 row1\" >Spectral Diamond Doomblade</th> \n",
       "        <th id=\"T_16fddcc6_1035_11e8_bac1_6c96cfdcdde3level1_row1\" class=\"row_heading level1 row1\" >115</th> \n",
       "        <td id=\"T_16fddcc6_1035_11e8_bac1_6c96cfdcdde3row1_col0\" class=\"data row1 col0\" >7</td> \n",
       "        <td id=\"T_16fddcc6_1035_11e8_bac1_6c96cfdcdde3row1_col1\" class=\"data row1 col1\" >$4.25</td> \n",
       "        <td id=\"T_16fddcc6_1035_11e8_bac1_6c96cfdcdde3row1_col2\" class=\"data row1 col2\" >$29.75</td> \n",
       "    </tr>    <tr> \n",
       "        <th id=\"T_16fddcc6_1035_11e8_bac1_6c96cfdcdde3level0_row2\" class=\"row_heading level0 row2\" >Orenmir</th> \n",
       "        <th id=\"T_16fddcc6_1035_11e8_bac1_6c96cfdcdde3level1_row2\" class=\"row_heading level1 row2\" >32</th> \n",
       "        <td id=\"T_16fddcc6_1035_11e8_bac1_6c96cfdcdde3row2_col0\" class=\"data row2 col0\" >6</td> \n",
       "        <td id=\"T_16fddcc6_1035_11e8_bac1_6c96cfdcdde3row2_col1\" class=\"data row2 col1\" >$4.95</td> \n",
       "        <td id=\"T_16fddcc6_1035_11e8_bac1_6c96cfdcdde3row2_col2\" class=\"data row2 col2\" >$29.70</td> \n",
       "    </tr>    <tr> \n",
       "        <th id=\"T_16fddcc6_1035_11e8_bac1_6c96cfdcdde3level0_row3\" class=\"row_heading level0 row3\" >Singed Scalpel</th> \n",
       "        <th id=\"T_16fddcc6_1035_11e8_bac1_6c96cfdcdde3level1_row3\" class=\"row_heading level1 row3\" >103</th> \n",
       "        <td id=\"T_16fddcc6_1035_11e8_bac1_6c96cfdcdde3row3_col0\" class=\"data row3 col0\" >6</td> \n",
       "        <td id=\"T_16fddcc6_1035_11e8_bac1_6c96cfdcdde3row3_col1\" class=\"data row3 col1\" >$4.87</td> \n",
       "        <td id=\"T_16fddcc6_1035_11e8_bac1_6c96cfdcdde3row3_col2\" class=\"data row3 col2\" >$29.22</td> \n",
       "    </tr>    <tr> \n",
       "        <th id=\"T_16fddcc6_1035_11e8_bac1_6c96cfdcdde3level0_row4\" class=\"row_heading level0 row4\" >Splitter, Foe Of Subtlety</th> \n",
       "        <th id=\"T_16fddcc6_1035_11e8_bac1_6c96cfdcdde3level1_row4\" class=\"row_heading level1 row4\" >107</th> \n",
       "        <td id=\"T_16fddcc6_1035_11e8_bac1_6c96cfdcdde3row4_col0\" class=\"data row4 col0\" >8</td> \n",
       "        <td id=\"T_16fddcc6_1035_11e8_bac1_6c96cfdcdde3row4_col1\" class=\"data row4 col1\" >$3.61</td> \n",
       "        <td id=\"T_16fddcc6_1035_11e8_bac1_6c96cfdcdde3row4_col2\" class=\"data row4 col2\" >$28.88</td> \n",
       "    </tr></tbody> \n",
       "</table> "
      ],
      "text/plain": [
       "<pandas.io.formats.style.Styler at 0x1104944a8>"
      ]
     },
     "execution_count": 98,
     "metadata": {},
     "output_type": "execute_result"
    }
   ],
   "source": [
    "# Sort according to Total Purchase Value, format results and print 5 most profitable items\n",
    "print(\"\\nMost Profitable Items\")\n",
    "print(\"---------------------\")\n",
    "most_profitable_items = m2_organized_indexed.sort_values(\"Total Purchase Value\", ascending = False).head()\n",
    "most_profitable_items.style.format({\"Item Price\" : \"${:.2f}\", \"Total Purchase Value\" : \"${:.2f}\"})"
   ]
  },
  {
   "cell_type": "code",
   "execution_count": null,
   "metadata": {
    "collapsed": true
   },
   "outputs": [],
   "source": []
  }
 ],
 "metadata": {
  "kernelspec": {
   "display_name": "Python 3",
   "language": "python",
   "name": "python3"
  },
  "language_info": {
   "codemirror_mode": {
    "name": "ipython",
    "version": 3
   },
   "file_extension": ".py",
   "mimetype": "text/x-python",
   "name": "python",
   "nbconvert_exporter": "python",
   "pygments_lexer": "ipython3",
   "version": "3.6.3"
  }
 },
 "nbformat": 4,
 "nbformat_minor": 2
}
